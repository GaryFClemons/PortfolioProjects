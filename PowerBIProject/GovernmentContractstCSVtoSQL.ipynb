{
 "cells": [
  {
   "cell_type": "code",
   "execution_count": 17,
   "id": "f172aff9-a444-4e28-89ef-b13471a11eac",
   "metadata": {},
   "outputs": [],
   "source": [
    "import sqlalchemy as sqla\n",
    "import pandas as pd \n",
    "import csv\n",
    "\n",
    "driver = \"ODBC Driver 17 for SQL Server\"\n",
    "host = \"GARYS_LAPTOP\"\n",
    "db = \"GovernmentContractsProject\"\n",
    "user = \"sa\"\n",
    "password = \"Turaga_321\"\n",
    "\n",
    "\n",
    "connection_string = f'DRIVER={driver};SERVER={host};PORT=1433;DATABASE={db};UID={user};PWD={password};&autocommit=false'\n",
    "connection_url = sqla.engine.URL.create(\"mssql+pyodbc\", query={\"odbc_connect\": connection_string})\n",
    "engine = sqla.create_engine(connection_url, fast_executemany=True, use_setinputsizes = False, echo = False)\n",
    "\n",
    "conn = engine.connect()\n",
    "\n",
    "metadata = sqla.MetaData()\n",
    "Government_Contracts = sqla.Table('GovernmentContracts', metadata, autoload_with=engine)\n",
    "\n",
    "with open('C:\\\\Users\\garyf\\OneDrive\\Documents\\PortfolioProject\\FY2025_All_Contracts_Full_20241107_1.csv', 'r', encoding='utf-8') as csvfile:\n",
    "    reader = csv.reader(csvfile)\n",
    "    header = next(reader)\n",
    "\n",
    "    columns_list = []\n",
    "    \n",
    "    for i in header:\n",
    "        columns_list.append(i)\n",
    "\n",
    "    first_row = True\n",
    "    for row in reader:\n",
    "        if first_row:\n",
    "            first_row = False \n",
    "            continue \n",
    "\n",
    "        values_dict = {}\n",
    "        index = 0\n",
    "        for i in row:\n",
    "            temp_dict = { columns_list[index] : i}\n",
    "            values_dict.update(temp_dict)\n",
    "            index += 1\n",
    "        statement = Government_Contracts.insert().values(values_dict)\n",
    "        conn.execute(statement)\n",
    "        conn.commit(\n",
    "\n"
   ]
  },
  {
   "cell_type": "code",
   "execution_count": null,
   "id": "0433e4a7-18c6-484f-a35c-648411e93431",
   "metadata": {},
   "outputs": [],
   "source": []
  }
 ],
 "metadata": {
  "kernelspec": {
   "display_name": "Python 3 (ipykernel)",
   "language": "python",
   "name": "python3"
  },
  "language_info": {
   "codemirror_mode": {
    "name": "ipython",
    "version": 3
   },
   "file_extension": ".py",
   "mimetype": "text/x-python",
   "name": "python",
   "nbconvert_exporter": "python",
   "pygments_lexer": "ipython3",
   "version": "3.11.5"
  }
 },
 "nbformat": 4,
 "nbformat_minor": 5
}
